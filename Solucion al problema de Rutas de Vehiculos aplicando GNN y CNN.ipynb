{
 "cells": [
  {
   "cell_type": "markdown",
   "metadata": {},
   "source": [
    "# Solución al problema de Rutas de Vehículos aplicando GNN y CNN"
   ]
  },
  {
   "cell_type": "markdown",
   "metadata": {},
   "source": [
    "## Librerias"
   ]
  },
  {
   "cell_type": "code",
   "execution_count": 620,
   "metadata": {},
   "outputs": [],
   "source": [
    "import networkx as nx\n",
    "import numpy as np\n",
    "import matplotlib.pyplot as plt\n",
    "from sklearn.model_selection import train_test_split\n",
    "import torch\n",
    "\n",
    "device = 'cuda' if torch.cuda.is_available() else 'cpu'"
   ]
  },
  {
   "cell_type": "markdown",
   "metadata": {},
   "source": [
    "## Carga del Dataset"
   ]
  },
  {
   "cell_type": "markdown",
   "metadata": {},
   "source": [
    "### Instancias"
   ]
  },
  {
   "cell_type": "markdown",
   "metadata": {},
   "source": [
    "#### Carga"
   ]
  },
  {
   "cell_type": "code",
   "execution_count": 621,
   "metadata": {},
   "outputs": [],
   "source": [
    "matrices = np.load(\"Dataset/Instancias/matrices.npy\")\n",
    "demandas = np.load(\"Dataset/Instancias/demandas.npy\")\n",
    "capacidades = np.load(\"Dataset/Instancias/capacidades.npy\")"
   ]
  },
  {
   "cell_type": "markdown",
   "metadata": {},
   "source": [
    "#### Elementos a usar"
   ]
  },
  {
   "cell_type": "code",
   "execution_count": 622,
   "metadata": {},
   "outputs": [],
   "source": [
    "numVehiculos = len(capacidades[0])\n",
    "l = matrices[0].shape[0]\n",
    "numInstancias = matrices.shape[0]\n",
    "\n",
    "vecNumVehiculos = np.array([numVehiculos]*l).reshape((l,1))\n",
    "vecCapacidades = np.array([np.array([capacidades[i][0]]*numVehiculos*l).reshape((l, numVehiculos))\n",
    "                           for i in range(numInstancias)])\n",
    "\n",
    "def matrizAdyacenciaVRP(aristas):\n",
    "   adjM = np.zeros((l, l))\n",
    "\n",
    "   for i, j in aristas:\n",
    "      adjM[i][j], adjM[j][i] = 1, 1\n",
    "   \n",
    "   return adjM\n",
    "\n",
    "def matrizAdyacenciaCVRP(aristas):\n",
    "   adjM = np.zeros((l, l))\n",
    "\n",
    "   for i, j, k in aristas:\n",
    "      adjM[i][j], adjM[j][i] = k, k\n",
    "   \n",
    "   return adjM"
   ]
  },
  {
   "cell_type": "markdown",
   "metadata": {},
   "source": [
    "#### Cantidad"
   ]
  },
  {
   "cell_type": "code",
   "execution_count": 623,
   "metadata": {},
   "outputs": [
    {
     "data": {
      "text/plain": [
       "10000"
      ]
     },
     "execution_count": 623,
     "metadata": {},
     "output_type": "execute_result"
    }
   ],
   "source": [
    "numInstancias"
   ]
  },
  {
   "cell_type": "markdown",
   "metadata": {},
   "source": [
    "### Target"
   ]
  },
  {
   "cell_type": "markdown",
   "metadata": {},
   "source": [
    "#### VRP"
   ]
  },
  {
   "cell_type": "markdown",
   "metadata": {},
   "source": [
    "##### Carga"
   ]
  },
  {
   "cell_type": "code",
   "execution_count": 624,
   "metadata": {},
   "outputs": [],
   "source": [
    "aristasVRP = np.load(\"Dataset/Targets/VRP/aristas.npy\")\n",
    "distanciasVRP = np.load(\"Dataset/Targets/VRP/distancias.npy\")"
   ]
  },
  {
   "cell_type": "markdown",
   "metadata": {},
   "source": [
    "##### Cantidad"
   ]
  },
  {
   "cell_type": "code",
   "execution_count": 625,
   "metadata": {},
   "outputs": [
    {
     "data": {
      "text/plain": [
       "10000"
      ]
     },
     "execution_count": 625,
     "metadata": {},
     "output_type": "execute_result"
    }
   ],
   "source": [
    "aristasVRP.shape[0]"
   ]
  },
  {
   "cell_type": "markdown",
   "metadata": {},
   "source": [
    "##### Cantidad de problemas sin solución"
   ]
  },
  {
   "cell_type": "code",
   "execution_count": 626,
   "metadata": {},
   "outputs": [
    {
     "data": {
      "text/plain": [
       "0"
      ]
     },
     "execution_count": 626,
     "metadata": {},
     "output_type": "execute_result"
    }
   ],
   "source": [
    "ls = []\n",
    "for i in range(aristasVRP.shape[0]):\n",
    "   if(not all((aristasVRP[i] == np.zeros((30, 2))).tolist())):\n",
    "      ls.append(i)\n",
    "len(ls)"
   ]
  },
  {
   "cell_type": "markdown",
   "metadata": {},
   "source": [
    "#### Ejemplo"
   ]
  },
  {
   "cell_type": "markdown",
   "metadata": {},
   "source": [
    "Grafo solución de una instancia"
   ]
  },
  {
   "cell_type": "code",
   "execution_count": 627,
   "metadata": {},
   "outputs": [
    {
     "data": {
      "image/png": "[encoded data removed]",
      "text/plain": [
       "<Figure size 432x288 with 1 Axes>"
      ]
     },
     "metadata": {},
     "output_type": "display_data"
    }
   ],
   "source": [
    "limits = plt.axis(\"off\")\n",
    "G = nx.DiGraph()\n",
    "G.add_edges_from(aristasVRP[2])\n",
    "nx.draw_networkx(G)\n",
    "plt.show()"
   ]
  },
  {
   "cell_type": "markdown",
   "metadata": {},
   "source": [
    "#### CVRP"
   ]
  },
  {
   "cell_type": "markdown",
   "metadata": {},
   "source": [
    "##### Carga"
   ]
  },
  {
   "cell_type": "code",
   "execution_count": 628,
   "metadata": {},
   "outputs": [],
   "source": [
    "aristasCVRP = np.load(\"Dataset/Targets/CVRP/aristas.npy\")\n",
    "distanciasCVRP = np.load(\"Dataset/Targets/CVRP/distancias.npy\")\n",
    "cargasCVRP = np.load(\"Dataset/Targets/CVRP/cargas.npy\")"
   ]
  },
  {
   "cell_type": "markdown",
   "metadata": {},
   "source": [
    "##### Cantidad"
   ]
  },
  {
   "cell_type": "code",
   "execution_count": 629,
   "metadata": {},
   "outputs": [
    {
     "data": {
      "text/plain": [
       "10000"
      ]
     },
     "execution_count": 629,
     "metadata": {},
     "output_type": "execute_result"
    }
   ],
   "source": [
    "aristasCVRP.shape[0]"
   ]
  },
  {
   "cell_type": "markdown",
   "metadata": {},
   "source": [
    "##### Cantidad de problemas sin solución"
   ]
  },
  {
   "cell_type": "code",
   "execution_count": 630,
   "metadata": {},
   "outputs": [
    {
     "data": {
      "text/plain": [
       "0"
      ]
     },
     "execution_count": 630,
     "metadata": {},
     "output_type": "execute_result"
    }
   ],
   "source": [
    "ls = []\n",
    "for i in range(aristasCVRP.shape[0]):\n",
    "   if(not all((aristasCVRP[i] == np.zeros((30, 3))).tolist())):\n",
    "      ls.append(i)\n",
    "len(ls)"
   ]
  },
  {
   "cell_type": "markdown",
   "metadata": {},
   "source": [
    "#### Ejemplo"
   ]
  },
  {
   "cell_type": "markdown",
   "metadata": {},
   "source": [
    "Grafo solución de una instancia"
   ]
  },
  {
   "cell_type": "code",
   "execution_count": 631,
   "metadata": {},
   "outputs": [
    {
     "data": {
      "image/png": "[encoded data removed]",
      "text/plain": [
       "<Figure size 432x288 with 1 Axes>"
      ]
     },
     "metadata": {},
     "output_type": "display_data"
    }
   ],
   "source": [
    "limits = plt.axis(\"off\")\n",
    "G = nx.DiGraph()\n",
    "G.add_weighted_edges_from(aristasCVRP[2])\n",
    "nx.draw_networkx(G)\n",
    "plt.show()"
   ]
  },
  {
   "cell_type": "markdown",
   "metadata": {},
   "source": [
    "## Modelos"
   ]
  },
  {
   "cell_type": "markdown",
   "metadata": {},
   "source": [
    "### Feed-Forward Neural Network"
   ]
  },
  {
   "cell_type": "markdown",
   "metadata": {},
   "source": [
    "#### Tratamiento de datos"
   ]
  },
  {
   "cell_type": "markdown",
   "metadata": {},
   "source": [
    "Partición del dataset en train y test"
   ]
  },
  {
   "cell_type": "markdown",
   "metadata": {},
   "source": [
    "##### VRP"
   ]
  },
  {
   "cell_type": "code",
   "execution_count": 632,
   "metadata": {},
   "outputs": [],
   "source": [
    "X_VRP = np.array([np.concatenate((matrices[i], vecNumVehiculos), axis=1) \n",
    "                  for i in range(numInstancias)])\n",
    "y_VRP = np.array([matrizAdyacenciaVRP(ari)\n",
    "                  for ari in aristasVRP])\n",
    "\n",
    "X_trainVRP, X_testVRP, y_trainVRP, y_testVRP = train_test_split(X_VRP, y_VRP, test_size=0.25, random_state=1)\n",
    "\n",
    "dimensionX_VRP = X_trainVRP[0].shape[0]*X_trainVRP[0].shape[1]\n",
    "dimensiony_VRP = y_trainVRP[0].shape[0]*y_trainVRP[0].shape[1]"
   ]
  },
  {
   "cell_type": "markdown",
   "metadata": {},
   "source": [
    "##### CVRP"
   ]
  },
  {
   "cell_type": "code",
   "execution_count": 633,
   "metadata": {},
   "outputs": [],
   "source": [
    "X_CVRP = np.array([np.concatenate((matrices[i], vecNumVehiculos, demandas[i].reshape((l, 1)), vecCapacidades[i]), axis=1) \n",
    "                  for i in range(numInstancias)])\n",
    "y_CVRP = np.array([matrizAdyacenciaCVRP(ari)\n",
    "                  for ari in aristasCVRP])\n",
    "\n",
    "X_trainCVRP, X_testCVRP, y_trainCVRP, y_testCVRP = train_test_split(X_CVRP, y_CVRP, test_size=0.25, random_state=1)\n",
    "\n",
    "dimensionX_CVRP = X_trainCVRP[0].shape[0]*X_trainCVRP[0].shape[1]\n",
    "dimensiony_CVRP = y_trainCVRP[0].shape[0]*y_trainCVRP[0].shape[1]"
   ]
  },
  {
   "cell_type": "markdown",
   "metadata": {},
   "source": [
    "#### Crear Dataset especifico para el modelo"
   ]
  },
  {
   "cell_type": "markdown",
   "metadata": {},
   "source": [
    "Creación de la clase Dataset para la manipulación de los datos"
   ]
  },
  {
   "cell_type": "code",
   "execution_count": 634,
   "metadata": {},
   "outputs": [],
   "source": [
    "class Dataset(torch.utils.data.Dataset):\n",
    "   def __init__(self, X, y):\n",
    "      self.X = torch.from_numpy(X).float().cuda().view(-1, X[0].shape[0]*X[0].shape[1])\n",
    "      self.y = torch.from_numpy(y).float().cuda().view(-1, y[0].shape[0]*y[0].shape[1])\n",
    "   def __len__(self):\n",
    "      return len(self.X)\n",
    "   def __getitem__(self, ix):\n",
    "      return self.X[ix], self.y[ix]\n",
    "\n",
    "datasetVRP = {\n",
    "   'train': Dataset(X_trainVRP, y_trainVRP),\n",
    "   'test': Dataset(X_testVRP, y_testVRP),\n",
    "}\n",
    "\n",
    "datasetCVRP = {\n",
    "   'train': Dataset(X_trainCVRP, y_trainCVRP),\n",
    "   'test': Dataset(X_testCVRP, y_testCVRP),\n",
    "}"
   ]
  },
  {
   "cell_type": "markdown",
   "metadata": {},
   "source": [
    "Se divide el dataset en batches para un mejor entrenamiento usando el modulo utils.data."
   ]
  },
  {
   "cell_type": "code",
   "execution_count": 635,
   "metadata": {},
   "outputs": [],
   "source": [
    "dataloaderVRP = {\n",
    "   'train': torch.utils.data.DataLoader(datasetVRP['train'], batch_size=100, shuffle=True),\n",
    "   'test': torch.utils.data.DataLoader(datasetVRP['test'], batch_size=250, shuffle=False)\n",
    "}\n",
    "\n",
    "dataloaderCVRP = {\n",
    "   'train': torch.utils.data.DataLoader(datasetCVRP['train'], batch_size=100, shuffle=True),\n",
    "   'test': torch.utils.data.DataLoader(datasetCVRP['test'], batch_size=250, shuffle=False)\n",
    "}"
   ]
  },
  {
   "cell_type": "markdown",
   "metadata": {},
   "source": [
    "#### Definición del modelo"
   ]
  },
  {
   "cell_type": "code",
   "execution_count": 636,
   "metadata": {},
   "outputs": [],
   "source": [
    "class FFNN(torch.nn.Module):\n",
    "   def __init__(self, D_in, H, D_out):\n",
    "      super().__init__()\n",
    "      self.fc1 = torch.nn.Sequential(\n",
    "                    torch.nn.Linear(D_in, H),\n",
    "                    torch.nn.ReLU()\n",
    "                 )\n",
    "      self.fc2 = torch.nn.Sequential(\n",
    "                    torch.nn.Linear(H, 2*H),\n",
    "                    torch.nn.ReLU()\n",
    "                 )\n",
    "      self.fc3 = torch.nn.Sequential(\n",
    "                    torch.nn.Linear(2*H, H),\n",
    "                    torch.nn.ReLU()\n",
    "                 )\n",
    "      self.fc4 = torch.nn.Sequential(\n",
    "                    torch.nn.Linear(H, D_out),\n",
    "                    torch.nn.Hardsigmoid()\n",
    "                 )\n",
    "   \n",
    "   def forward(self, x):\n",
    "      x = self.fc1(x)\n",
    "      x = self.fc2(x)\n",
    "      x = self.fc3(x)\n",
    "      x = self.fc4(x)\n",
    "      return x"
   ]
  },
  {
   "cell_type": "markdown",
   "metadata": {},
   "source": [
    "#### Función de entrenamiento"
   ]
  },
  {
   "cell_type": "code",
   "execution_count": 637,
   "metadata": {},
   "outputs": [],
   "source": [
    "def fit(model, dataloader, epochs=5):\n",
    "   model.to(device)\n",
    "   optimizer = torch.optim.Adam(model.parameters(), lr=1e-2)\n",
    "   criterion = torch.nn.KLDivLoss(reduction=\"batchmean\", log_target=True)\n",
    "   FFNNTrainLossMean, FFNNValLossMean, FFNNTrainAccMean, FFNNValAccMean = [0.0], [0.0], [0.0], [0.0]\n",
    "   for epoch in range(1, epochs+1):\n",
    "      model.train()\n",
    "      FFNNTrainLoss, FFNNTrainAcc = [], []\n",
    "      batches = dataloader['train']\n",
    "      for batch in batches:\n",
    "         X, y = batch\n",
    "         X, y = X.to(device), y.to(device)\n",
    "         optimizer.zero_grad()\n",
    "         y_hat = model(X)\n",
    "         loss = criterion(y_hat, torch.nn.functional.softmax(y, dim=1))\n",
    "         loss.backward()\n",
    "         optimizer.step()\n",
    "         FFNNTrainLoss.append(loss.item())\n",
    "         acc = (y == y_hat).all(axis=1).sum() / len(y)\n",
    "         FFNNTrainAcc.append(acc.to(\"cpu\"))\n",
    "      batches = dataloader['test']\n",
    "      FFNNValLoss, FFNNValAcc = [], []\n",
    "      model.eval()\n",
    "      with torch.no_grad():\n",
    "         for batch in batches:\n",
    "            X, y = batch\n",
    "            X, y = X.to(device), y.to(device)\n",
    "            y_hat = model(X)\n",
    "            loss = criterion(y_hat, torch.nn.functional.softmax(y, dim=1))\n",
    "            FFNNValLoss.append(loss.item())\n",
    "            acc = (y == y_hat).all(axis=1).sum() / len(y)\n",
    "            FFNNValAcc.append(acc.to(\"cpu\"))\n",
    "      FFNNTrainLossMean.append(np.mean(FFNNTrainLoss))\n",
    "      FFNNValLossMean.append(np.mean(FFNNValLoss))\n",
    "      FFNNTrainAccMean.append(np.mean(FFNNTrainAcc))\n",
    "      FFNNValAccMean.append(np.mean(FFNNValAcc))\n",
    "      print(f\"Epoch {epoch}/{epochs} loss {np.mean(FFNNTrainLoss):.5f} val_loss {np.mean(FFNNValLoss):.5f} acc {np.mean(FFNNTrainAcc):.5f} val_acc {np.mean(FFNNValAcc):.5f}\")\n",
    "   return FFNNTrainLossMean, FFNNValLossMean, FFNNTrainAccMean, FFNNValAccMean"
   ]
  },
  {
   "cell_type": "markdown",
   "metadata": {},
   "source": [
    "#### VRP"
   ]
  },
  {
   "cell_type": "markdown",
   "metadata": {},
   "source": [
    "##### Instanciación del modelo"
   ]
  },
  {
   "cell_type": "code",
   "execution_count": 638,
   "metadata": {},
   "outputs": [
    {
     "data": {
      "text/plain": [
       "FFNN(\n",
       "  (fc1): Sequential(\n",
       "    (0): Linear(in_features=650, out_features=100, bias=True)\n",
       "    (1): ReLU()\n",
       "  )\n",
       "  (fc2): Sequential(\n",
       "    (0): Linear(in_features=100, out_features=200, bias=True)\n",
       "    (1): ReLU()\n",
       "  )\n",
       "  (fc3): Sequential(\n",
       "    (0): Linear(in_features=200, out_features=100, bias=True)\n",
       "    (1): ReLU()\n",
       "  )\n",
       "  (fc4): Sequential(\n",
       "    (0): Linear(in_features=100, out_features=625, bias=True)\n",
       "    (1): Hardsigmoid()\n",
       "  )\n",
       ")"
      ]
     },
     "execution_count": 638,
     "metadata": {},
     "output_type": "execute_result"
    }
   ],
   "source": [
    "FFNN_VRPmodel = FFNN(dimensionX_VRP, 100, dimensiony_VRP)\n",
    "FFNN_VRPmodel"
   ]
  },
  {
   "cell_type": "markdown",
   "metadata": {},
   "source": [
    "##### Entrenamiento"
   ]
  },
  {
   "cell_type": "code",
   "execution_count": 639,
   "metadata": {},
   "outputs": [
    {
     "name": "stdout",
     "output_type": "stream",
     "text": [
      "Epoch 1/25 loss -492.13263 val_loss -495.79333 acc 0.00000 val_acc 0.00000\n",
      "Epoch 2/25 loss -495.83333 val_loss -495.79332 acc 0.00000 val_acc 0.00000\n",
      "Epoch 3/25 loss -495.79326 val_loss -495.79332 acc 0.00000 val_acc 0.00000\n",
      "Epoch 4/25 loss -495.79327 val_loss -495.79332 acc 0.00000 val_acc 0.00000\n",
      "Epoch 5/25 loss -495.79327 val_loss -495.79332 acc 0.00000 val_acc 0.00000\n",
      "Epoch 6/25 loss -495.79326 val_loss -495.79332 acc 0.00000 val_acc 0.00000\n",
      "Epoch 7/25 loss -495.79326 val_loss -495.79332 acc 0.00000 val_acc 0.00000\n",
      "Epoch 8/25 loss -495.79327 val_loss -495.79332 acc 0.00000 val_acc 0.00000\n",
      "Epoch 9/25 loss -495.79327 val_loss -495.79332 acc 0.00000 val_acc 0.00000\n",
      "Epoch 10/25 loss -495.79327 val_loss -495.79332 acc 0.00000 val_acc 0.00000\n",
      "Epoch 11/25 loss -495.79327 val_loss -495.79332 acc 0.00000 val_acc 0.00000\n",
      "Epoch 12/25 loss -495.79326 val_loss -495.79332 acc 0.00000 val_acc 0.00000\n",
      "Epoch 13/25 loss -495.79327 val_loss -495.79332 acc 0.00000 val_acc 0.00000\n",
      "Epoch 14/25 loss -495.79327 val_loss -495.79332 acc 0.00000 val_acc 0.00000\n",
      "Epoch 15/25 loss -495.79327 val_loss -495.79332 acc 0.00000 val_acc 0.00000\n",
      "Epoch 16/25 loss -495.79327 val_loss -495.79332 acc 0.00000 val_acc 0.00000\n",
      "Epoch 17/25 loss -495.79326 val_loss -495.79332 acc 0.00000 val_acc 0.00000\n",
      "Epoch 18/25 loss -495.79326 val_loss -495.79332 acc 0.00000 val_acc 0.00000\n",
      "Epoch 19/25 loss -495.79327 val_loss -495.79332 acc 0.00000 val_acc 0.00000\n",
      "Epoch 20/25 loss -495.79327 val_loss -495.79332 acc 0.00000 val_acc 0.00000\n",
      "Epoch 21/25 loss -495.79327 val_loss -495.79332 acc 0.00000 val_acc 0.00000\n",
      "Epoch 22/25 loss -495.79326 val_loss -495.79332 acc 0.00000 val_acc 0.00000\n",
      "Epoch 23/25 loss -495.79327 val_loss -495.79332 acc 0.00000 val_acc 0.00000\n",
      "Epoch 24/25 loss -495.79326 val_loss -495.79332 acc 0.00000 val_acc 0.00000\n",
      "Epoch 25/25 loss -495.79327 val_loss -495.79332 acc 0.00000 val_acc 0.00000\n"
     ]
    }
   ],
   "source": [
    "epochs = 25\n",
    "\n",
    "FFNNTrainLossVRP, FFNNValLossVRP, FFNNTrainAccVRP, FFNNValAccVRP = fit(FFNN_VRPmodel,\n",
    "                                                                       dataloaderVRP,\n",
    "                                                                       epochs=epochs)"
   ]
  },
  {
   "cell_type": "markdown",
   "metadata": {},
   "source": [
    "##### Gráficas de métricas"
   ]
  },
  {
   "cell_type": "code",
   "execution_count": 640,
   "metadata": {},
   "outputs": [
    {
     "data": {
      "image/png": "[encoded data removed]",
      "text/plain": [
       "<Figure size 2000x600 with 2 Axes>"
      ]
     },
     "metadata": {
      "needs_background": "light"
     },
     "output_type": "display_data"
    }
   ],
   "source": [
    "fig = plt.figure(dpi=200, figsize=(10,3))\n",
    "ax = plt.subplot(121)\n",
    "ax.plot(FFNNTrainLossVRP, label=\"Train\")\n",
    "ax.plot(FFNNValLossVRP, label=\"Validation\")\n",
    "ax.legend()\n",
    "ax.grid(True)\n",
    "ax.set_title('Loss')\n",
    "ax.set_xlabel('epoch')\n",
    "ax.set_ylabel('loss')\n",
    "ax = plt.subplot(122)\n",
    "ax.plot(FFNNTrainAccVRP, label=\"Train\")\n",
    "ax.plot(FFNNValAccVRP, label=\"Validation\")\n",
    "ax.legend()\n",
    "ax.grid(True)\n",
    "ax.set_title('Accuracy')\n",
    "ax.set_ylabel('acc')\n",
    "ax.set_xlabel('epoch')\n",
    "plt.show()"
   ]
  },
  {
   "cell_type": "markdown",
   "metadata": {},
   "source": [
    "##### Guardando el modelo"
   ]
  },
  {
   "cell_type": "code",
   "execution_count": 641,
   "metadata": {},
   "outputs": [],
   "source": [
    "torch.save(FFNN_VRPmodel.state_dict(), \"Models/VRP/FFNN.pt\")"
   ]
  },
  {
   "cell_type": "markdown",
   "metadata": {},
   "source": [
    "#### CVRP"
   ]
  },
  {
   "cell_type": "markdown",
   "metadata": {},
   "source": [
    "##### Instanciación del modelo"
   ]
  },
  {
   "cell_type": "code",
   "execution_count": 642,
   "metadata": {},
   "outputs": [
    {
     "data": {
      "text/plain": [
       "FFNN(\n",
       "  (fc1): Sequential(\n",
       "    (0): Linear(in_features=825, out_features=100, bias=True)\n",
       "    (1): ReLU()\n",
       "  )\n",
       "  (fc2): Sequential(\n",
       "    (0): Linear(in_features=100, out_features=200, bias=True)\n",
       "    (1): ReLU()\n",
       "  )\n",
       "  (fc3): Sequential(\n",
       "    (0): Linear(in_features=200, out_features=100, bias=True)\n",
       "    (1): ReLU()\n",
       "  )\n",
       "  (fc4): Sequential(\n",
       "    (0): Linear(in_features=100, out_features=625, bias=True)\n",
       "    (1): Hardsigmoid()\n",
       "  )\n",
       ")"
      ]
     },
     "execution_count": 642,
     "metadata": {},
     "output_type": "execute_result"
    }
   ],
   "source": [
    "FFNN_CVRPmodel = FFNN(dimensionX_CVRP, 100, dimensiony_CVRP)\n",
    "FFNN_CVRPmodel"
   ]
  },
  {
   "cell_type": "markdown",
   "metadata": {},
   "source": [
    "##### Entrenamiento"
   ]
  },
  {
   "cell_type": "code",
   "execution_count": 643,
   "metadata": {},
   "outputs": [
    {
     "name": "stdout",
     "output_type": "stream",
     "text": [
      "Epoch 1/25 loss -477.37294 val_loss -481.71451 acc 0.00000 val_acc 0.00000\n",
      "Epoch 2/25 loss -483.25590 val_loss -482.72338 acc 0.00000 val_acc 0.00000\n",
      "Epoch 3/25 loss -484.80412 val_loss -483.72476 acc 0.00000 val_acc 0.00000\n",
      "Epoch 4/25 loss -483.77574 val_loss -483.72489 acc 0.00000 val_acc 0.00000\n",
      "Epoch 5/25 loss -483.72222 val_loss -483.72489 acc 0.00000 val_acc 0.00000\n",
      "Epoch 6/25 loss -483.72222 val_loss -483.72489 acc 0.00000 val_acc 0.00000\n",
      "Epoch 7/25 loss -483.72222 val_loss -483.72489 acc 0.00000 val_acc 0.00000\n",
      "Epoch 8/25 loss -483.72222 val_loss -483.72489 acc 0.00000 val_acc 0.00000\n",
      "Epoch 9/25 loss -483.72222 val_loss -483.72489 acc 0.00000 val_acc 0.00000\n",
      "Epoch 10/25 loss -483.72222 val_loss -483.72489 acc 0.00000 val_acc 0.00000\n",
      "Epoch 11/25 loss -483.72222 val_loss -483.72489 acc 0.00000 val_acc 0.00000\n",
      "Epoch 12/25 loss -483.72222 val_loss -483.72489 acc 0.00000 val_acc 0.00000\n",
      "Epoch 13/25 loss -483.72222 val_loss -483.72489 acc 0.00000 val_acc 0.00000\n",
      "Epoch 14/25 loss -483.72222 val_loss -483.72489 acc 0.00000 val_acc 0.00000\n",
      "Epoch 15/25 loss -483.72222 val_loss -483.72489 acc 0.00000 val_acc 0.00000\n",
      "Epoch 16/25 loss -483.72223 val_loss -483.72489 acc 0.00000 val_acc 0.00000\n",
      "Epoch 17/25 loss -483.72222 val_loss -483.72489 acc 0.00000 val_acc 0.00000\n",
      "Epoch 18/25 loss -483.72222 val_loss -483.72489 acc 0.00000 val_acc 0.00000\n",
      "Epoch 19/25 loss -483.72222 val_loss -483.72489 acc 0.00000 val_acc 0.00000\n",
      "Epoch 20/25 loss -483.72222 val_loss -483.72489 acc 0.00000 val_acc 0.00000\n",
      "Epoch 21/25 loss -483.72222 val_loss -483.72489 acc 0.00000 val_acc 0.00000\n",
      "Epoch 22/25 loss -483.72223 val_loss -483.72489 acc 0.00000 val_acc 0.00000\n",
      "Epoch 23/25 loss -483.72222 val_loss -483.72489 acc 0.00000 val_acc 0.00000\n",
      "Epoch 24/25 loss -483.72222 val_loss -483.72489 acc 0.00000 val_acc 0.00000\n",
      "Epoch 25/25 loss -483.72223 val_loss -483.72489 acc 0.00000 val_acc 0.00000\n"
     ]
    }
   ],
   "source": [
    "epochs = 25\n",
    "\n",
    "FFNNTrainLossCVRP, FFNNValLossCVRP, FFNNTrainAccCVRP, FFNNValAccCVRP = fit(FFNN_CVRPmodel,\n",
    "                                                                           dataloaderCVRP,\n",
    "                                                                           epochs=epochs)"
   ]
  },
  {
   "cell_type": "markdown",
   "metadata": {},
   "source": [
    "##### Gráficas de métricas"
   ]
  },
  {
   "cell_type": "code",
   "execution_count": 644,
   "metadata": {},
   "outputs": [
    {
     "data": {
      "image/png": "[encoded data removed]",
      "text/plain": [
       "<Figure size 2000x600 with 2 Axes>"
      ]
     },
     "metadata": {
      "needs_background": "light"
     },
     "output_type": "display_data"
    }
   ],
   "source": [
    "fig = plt.figure(dpi=200, figsize=(10,3))\n",
    "ax = plt.subplot(121)\n",
    "ax.plot(FFNNTrainLossCVRP, label=\"Train\")\n",
    "ax.plot(FFNNValLossCVRP, label=\"Validation\")\n",
    "ax.legend()\n",
    "ax.grid(True)\n",
    "ax.set_title('Loss')\n",
    "ax.set_xlabel('epoch')\n",
    "ax.set_ylabel('loss')\n",
    "ax = plt.subplot(122)\n",
    "ax.plot(FFNNTrainAccCVRP, label=\"Train\")\n",
    "ax.plot(FFNNValAccCVRP, label=\"Validation\")\n",
    "ax.legend()\n",
    "ax.grid(True)\n",
    "ax.set_title('Accuracy')\n",
    "ax.set_ylabel('acc')\n",
    "ax.set_xlabel('epoch')\n",
    "plt.show()"
   ]
  },
  {
   "cell_type": "markdown",
   "metadata": {},
   "source": [
    "##### Guardando el modelo"
   ]
  },
  {
   "cell_type": "code",
   "execution_count": 645,
   "metadata": {},
   "outputs": [],
   "source": [
    "torch.save(FFNN_CVRPmodel.state_dict(), \"Models/CVRP/FFNN.pt\")"
   ]
  }
 ],
 "metadata": {
  "kernelspec": {
   "display_name": "Python 3.10.4 64-bit",
   "language": "python",
   "name": "python3"
  },
  "language_info": {
   "codemirror_mode": {
    "name": "ipython",
    "version": 3
   },
   "file_extension": ".py",
   "mimetype": "text/x-python",
   "name": "python",
   "nbconvert_exporter": "python",
   "pygments_lexer": "ipython3",
   "version": "3.10.4"
  },
  "orig_nbformat": 4,
  "vscode": {
   "interpreter": {
    "hash": "916dbcbb3f70747c44a77c7bcd40155683ae19c65e1c03b4aa3499c5328201f1"
   }
  }
 },
 "nbformat": 4,
 "nbformat_minor": 2
}
